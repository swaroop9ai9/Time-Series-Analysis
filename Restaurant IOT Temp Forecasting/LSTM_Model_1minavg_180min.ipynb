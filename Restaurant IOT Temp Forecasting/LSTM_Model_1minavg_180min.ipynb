{
 "cells": [
  {
   "cell_type": "code",
   "execution_count": 141,
   "metadata": {
    "colab": {
     "base_uri": "https://localhost:8080/",
     "height": 34
    },
    "colab_type": "code",
    "id": "zO_16biBU5zg",
    "outputId": "1416d42f-0725-40af-e4a0-33f8bd68cbf0"
   },
   "outputs": [
    {
     "name": "stdout",
     "output_type": "stream",
     "text": [
      "Mounted at /content/drive\n"
     ]
    }
   ],
   "source": [
    "from google.colab import drive\n",
    "drive.mount('/content/drive',force_remount=True)"
   ]
  },
  {
   "cell_type": "markdown",
   "metadata": {
    "colab_type": "text",
    "id": "v0HqYwfeVjZz"
   },
   "source": [
    "# 1. **Import Necessary packages**"
   ]
  },
  {
   "cell_type": "code",
   "execution_count": 0,
   "metadata": {
    "colab": {},
    "colab_type": "code",
    "id": "Ky9MbNjBVbC2"
   },
   "outputs": [],
   "source": [
    "import numpy as np\n",
    "import pandas as pd\n",
    "import matplotlib.pyplot as plt\n",
    "from pandas import Grouper\n",
    "from sklearn.svm import SVR\n",
    "from sklearn.model_selection import train_test_split\n",
    "from sklearn import metrics\n",
    "from sklearn.impute import KNNImputer"
   ]
  },
  {
   "cell_type": "markdown",
   "metadata": {
    "colab_type": "text",
    "id": "7tZFSSbHW36E"
   },
   "source": [
    "# **2. Read the Dataset**"
   ]
  },
  {
   "cell_type": "code",
   "execution_count": 0,
   "metadata": {
    "colab": {},
    "colab_type": "code",
    "id": "BP4yUJbpV9gi"
   },
   "outputs": [],
   "source": [
    "path_files = '/content/drive/My Drive/Co_lab/Capstone/1min_Average_Datasets/'\n",
    "november_df = pd.read_csv((path_files + '1 Walk-In 2019-11-1 2019-11-30.csv'), skiprows = [0,1,2,3,4,5,6,7,8,9,10], names = ['Date', 'Time', 'Zone', 'Temperature (F)'], \n",
    "                          skip_blank_lines = True, skipfooter = 1, engine = 'python')\n",
    "\n",
    "december_df = pd.read_csv((path_files + '1 Walk-In 2019-12-1 2019-12-31.csv'), skiprows = [0,1,2,3,4,5,6,7,8,9,10], names = ['Date', 'Time', 'Zone', 'Temperature (F)'], \n",
    "                          skip_blank_lines = True, skipfooter = 1, engine = 'python')\n",
    "\n",
    "jan_df =  pd.read_csv((path_files + '1 Walk-In 2020-1-1 2020-1-31.csv'), skiprows = [0,1,2,3,4,5,6,7,8,9,10], names = ['Date', 'Time', 'Zone', 'Temperature (F)'], \n",
    "                          skip_blank_lines = True, skipfooter = 1, engine = 'python')\n",
    "\n",
    "feb_df = pd.read_csv((path_files + '1 Walk-In 2020-2-1 2020-2-29.csv'), skiprows = [0,1,2,3,4,5,6,7,8,9,10], names = ['Date', 'Time', 'Zone', 'Temperature (F)'], \n",
    "                          skip_blank_lines = True, skipfooter = 1, engine = 'python')"
   ]
  },
  {
   "cell_type": "code",
   "execution_count": 144,
   "metadata": {
    "colab": {
     "base_uri": "https://localhost:8080/",
     "height": 197
    },
    "colab_type": "code",
    "id": "mkviIdA8YTAv",
    "outputId": "c8bb1171-7e13-47a3-c07b-8badb3106c87"
   },
   "outputs": [
    {
     "data": {
      "text/html": [
       "<div>\n",
       "<style scoped>\n",
       "    .dataframe tbody tr th:only-of-type {\n",
       "        vertical-align: middle;\n",
       "    }\n",
       "\n",
       "    .dataframe tbody tr th {\n",
       "        vertical-align: top;\n",
       "    }\n",
       "\n",
       "    .dataframe thead th {\n",
       "        text-align: right;\n",
       "    }\n",
       "</style>\n",
       "<table border=\"1\" class=\"dataframe\">\n",
       "  <thead>\n",
       "    <tr style=\"text-align: right;\">\n",
       "      <th></th>\n",
       "      <th>Date</th>\n",
       "      <th>Time</th>\n",
       "      <th>Zone</th>\n",
       "      <th>Temperature (F)</th>\n",
       "    </tr>\n",
       "  </thead>\n",
       "  <tbody>\n",
       "    <tr>\n",
       "      <th>0</th>\n",
       "      <td>2019-11-04</td>\n",
       "      <td>16:50</td>\n",
       "      <td>EST</td>\n",
       "      <td>67.5</td>\n",
       "    </tr>\n",
       "    <tr>\n",
       "      <th>1</th>\n",
       "      <td>2019-11-04</td>\n",
       "      <td>16:51</td>\n",
       "      <td>EST</td>\n",
       "      <td>67.3</td>\n",
       "    </tr>\n",
       "    <tr>\n",
       "      <th>2</th>\n",
       "      <td>2019-11-04</td>\n",
       "      <td>16:52</td>\n",
       "      <td>EST</td>\n",
       "      <td>67.3</td>\n",
       "    </tr>\n",
       "    <tr>\n",
       "      <th>3</th>\n",
       "      <td>2019-11-04</td>\n",
       "      <td>16:53</td>\n",
       "      <td>EST</td>\n",
       "      <td>67.3</td>\n",
       "    </tr>\n",
       "    <tr>\n",
       "      <th>4</th>\n",
       "      <td>2019-11-04</td>\n",
       "      <td>16:54</td>\n",
       "      <td>EST</td>\n",
       "      <td>67.2</td>\n",
       "    </tr>\n",
       "  </tbody>\n",
       "</table>\n",
       "</div>"
      ],
      "text/plain": [
       "         Date   Time Zone  Temperature (F)\n",
       "0  2019-11-04  16:50  EST             67.5\n",
       "1  2019-11-04  16:51  EST             67.3\n",
       "2  2019-11-04  16:52  EST             67.3\n",
       "3  2019-11-04  16:53  EST             67.3\n",
       "4  2019-11-04  16:54  EST             67.2"
      ]
     },
     "execution_count": 144,
     "metadata": {
      "tags": []
     },
     "output_type": "execute_result"
    }
   ],
   "source": [
    "november_df.head()"
   ]
  },
  {
   "cell_type": "code",
   "execution_count": 145,
   "metadata": {
    "colab": {
     "base_uri": "https://localhost:8080/",
     "height": 197
    },
    "colab_type": "code",
    "id": "Zdbiz7Bit73q",
    "outputId": "7d9a267b-c94d-4bdb-f747-23290e98313e"
   },
   "outputs": [
    {
     "data": {
      "text/html": [
       "<div>\n",
       "<style scoped>\n",
       "    .dataframe tbody tr th:only-of-type {\n",
       "        vertical-align: middle;\n",
       "    }\n",
       "\n",
       "    .dataframe tbody tr th {\n",
       "        vertical-align: top;\n",
       "    }\n",
       "\n",
       "    .dataframe thead th {\n",
       "        text-align: right;\n",
       "    }\n",
       "</style>\n",
       "<table border=\"1\" class=\"dataframe\">\n",
       "  <thead>\n",
       "    <tr style=\"text-align: right;\">\n",
       "      <th></th>\n",
       "      <th>Date</th>\n",
       "      <th>Time</th>\n",
       "      <th>Zone</th>\n",
       "      <th>Temperature (F)</th>\n",
       "    </tr>\n",
       "  </thead>\n",
       "  <tbody>\n",
       "    <tr>\n",
       "      <th>0</th>\n",
       "      <td>2019-12-01</td>\n",
       "      <td>00:00</td>\n",
       "      <td>EST</td>\n",
       "      <td>39.6</td>\n",
       "    </tr>\n",
       "    <tr>\n",
       "      <th>1</th>\n",
       "      <td>2019-12-01</td>\n",
       "      <td>00:01</td>\n",
       "      <td>EST</td>\n",
       "      <td>39.4</td>\n",
       "    </tr>\n",
       "    <tr>\n",
       "      <th>2</th>\n",
       "      <td>2019-12-01</td>\n",
       "      <td>00:02</td>\n",
       "      <td>EST</td>\n",
       "      <td>39.4</td>\n",
       "    </tr>\n",
       "    <tr>\n",
       "      <th>3</th>\n",
       "      <td>2019-12-01</td>\n",
       "      <td>00:03</td>\n",
       "      <td>EST</td>\n",
       "      <td>39.4</td>\n",
       "    </tr>\n",
       "    <tr>\n",
       "      <th>4</th>\n",
       "      <td>2019-12-01</td>\n",
       "      <td>00:04</td>\n",
       "      <td>EST</td>\n",
       "      <td>39.0</td>\n",
       "    </tr>\n",
       "  </tbody>\n",
       "</table>\n",
       "</div>"
      ],
      "text/plain": [
       "         Date   Time Zone  Temperature (F)\n",
       "0  2019-12-01  00:00  EST             39.6\n",
       "1  2019-12-01  00:01  EST             39.4\n",
       "2  2019-12-01  00:02  EST             39.4\n",
       "3  2019-12-01  00:03  EST             39.4\n",
       "4  2019-12-01  00:04  EST             39.0"
      ]
     },
     "execution_count": 145,
     "metadata": {
      "tags": []
     },
     "output_type": "execute_result"
    }
   ],
   "source": [
    "december_df.head()"
   ]
  },
  {
   "cell_type": "code",
   "execution_count": 146,
   "metadata": {
    "colab": {
     "base_uri": "https://localhost:8080/",
     "height": 197
    },
    "colab_type": "code",
    "id": "2OOnsvX3uF1P",
    "outputId": "e8748968-f4d2-4255-f670-6423828769ca"
   },
   "outputs": [
    {
     "data": {
      "text/html": [
       "<div>\n",
       "<style scoped>\n",
       "    .dataframe tbody tr th:only-of-type {\n",
       "        vertical-align: middle;\n",
       "    }\n",
       "\n",
       "    .dataframe tbody tr th {\n",
       "        vertical-align: top;\n",
       "    }\n",
       "\n",
       "    .dataframe thead th {\n",
       "        text-align: right;\n",
       "    }\n",
       "</style>\n",
       "<table border=\"1\" class=\"dataframe\">\n",
       "  <thead>\n",
       "    <tr style=\"text-align: right;\">\n",
       "      <th></th>\n",
       "      <th>Date</th>\n",
       "      <th>Time</th>\n",
       "      <th>Zone</th>\n",
       "      <th>Temperature (F)</th>\n",
       "    </tr>\n",
       "  </thead>\n",
       "  <tbody>\n",
       "    <tr>\n",
       "      <th>0</th>\n",
       "      <td>2020-01-01</td>\n",
       "      <td>16:18</td>\n",
       "      <td>EST</td>\n",
       "      <td>37.9</td>\n",
       "    </tr>\n",
       "    <tr>\n",
       "      <th>1</th>\n",
       "      <td>2020-01-01</td>\n",
       "      <td>16:19</td>\n",
       "      <td>EST</td>\n",
       "      <td>37.9</td>\n",
       "    </tr>\n",
       "    <tr>\n",
       "      <th>2</th>\n",
       "      <td>2020-01-01</td>\n",
       "      <td>16:21</td>\n",
       "      <td>EST</td>\n",
       "      <td>38.1</td>\n",
       "    </tr>\n",
       "    <tr>\n",
       "      <th>3</th>\n",
       "      <td>2020-01-01</td>\n",
       "      <td>16:22</td>\n",
       "      <td>EST</td>\n",
       "      <td>38.3</td>\n",
       "    </tr>\n",
       "    <tr>\n",
       "      <th>4</th>\n",
       "      <td>2020-01-01</td>\n",
       "      <td>16:23</td>\n",
       "      <td>EST</td>\n",
       "      <td>38.3</td>\n",
       "    </tr>\n",
       "  </tbody>\n",
       "</table>\n",
       "</div>"
      ],
      "text/plain": [
       "         Date   Time Zone  Temperature (F)\n",
       "0  2020-01-01  16:18  EST             37.9\n",
       "1  2020-01-01  16:19  EST             37.9\n",
       "2  2020-01-01  16:21  EST             38.1\n",
       "3  2020-01-01  16:22  EST             38.3\n",
       "4  2020-01-01  16:23  EST             38.3"
      ]
     },
     "execution_count": 146,
     "metadata": {
      "tags": []
     },
     "output_type": "execute_result"
    }
   ],
   "source": [
    "jan_df.head()"
   ]
  },
  {
   "cell_type": "code",
   "execution_count": 147,
   "metadata": {
    "colab": {
     "base_uri": "https://localhost:8080/",
     "height": 197
    },
    "colab_type": "code",
    "id": "2F27CPk2uqeL",
    "outputId": "70dfb7e0-7f4f-46e0-988a-0f6ebcf269d7"
   },
   "outputs": [
    {
     "data": {
      "text/html": [
       "<div>\n",
       "<style scoped>\n",
       "    .dataframe tbody tr th:only-of-type {\n",
       "        vertical-align: middle;\n",
       "    }\n",
       "\n",
       "    .dataframe tbody tr th {\n",
       "        vertical-align: top;\n",
       "    }\n",
       "\n",
       "    .dataframe thead th {\n",
       "        text-align: right;\n",
       "    }\n",
       "</style>\n",
       "<table border=\"1\" class=\"dataframe\">\n",
       "  <thead>\n",
       "    <tr style=\"text-align: right;\">\n",
       "      <th></th>\n",
       "      <th>Date</th>\n",
       "      <th>Time</th>\n",
       "      <th>Zone</th>\n",
       "      <th>Temperature (F)</th>\n",
       "    </tr>\n",
       "  </thead>\n",
       "  <tbody>\n",
       "    <tr>\n",
       "      <th>0</th>\n",
       "      <td>2020-02-01</td>\n",
       "      <td>00:00</td>\n",
       "      <td>EST</td>\n",
       "      <td>37.9</td>\n",
       "    </tr>\n",
       "    <tr>\n",
       "      <th>1</th>\n",
       "      <td>2020-02-01</td>\n",
       "      <td>00:01</td>\n",
       "      <td>EST</td>\n",
       "      <td>37.9</td>\n",
       "    </tr>\n",
       "    <tr>\n",
       "      <th>2</th>\n",
       "      <td>2020-02-01</td>\n",
       "      <td>00:02</td>\n",
       "      <td>EST</td>\n",
       "      <td>37.9</td>\n",
       "    </tr>\n",
       "    <tr>\n",
       "      <th>3</th>\n",
       "      <td>2020-02-01</td>\n",
       "      <td>00:03</td>\n",
       "      <td>EST</td>\n",
       "      <td>37.9</td>\n",
       "    </tr>\n",
       "    <tr>\n",
       "      <th>4</th>\n",
       "      <td>2020-02-01</td>\n",
       "      <td>00:04</td>\n",
       "      <td>EST</td>\n",
       "      <td>37.8</td>\n",
       "    </tr>\n",
       "  </tbody>\n",
       "</table>\n",
       "</div>"
      ],
      "text/plain": [
       "         Date   Time Zone  Temperature (F)\n",
       "0  2020-02-01  00:00  EST             37.9\n",
       "1  2020-02-01  00:01  EST             37.9\n",
       "2  2020-02-01  00:02  EST             37.9\n",
       "3  2020-02-01  00:03  EST             37.9\n",
       "4  2020-02-01  00:04  EST             37.8"
      ]
     },
     "execution_count": 147,
     "metadata": {
      "tags": []
     },
     "output_type": "execute_result"
    }
   ],
   "source": [
    "feb_df.head()"
   ]
  },
  {
   "cell_type": "code",
   "execution_count": 148,
   "metadata": {
    "colab": {
     "base_uri": "https://localhost:8080/",
     "height": 34
    },
    "colab_type": "code",
    "id": "k7Vz3fZlaSf_",
    "outputId": "2e886f2d-326a-4342-c8d8-108baa4a9ba6"
   },
   "outputs": [
    {
     "data": {
      "text/plain": [
       "(34226, 4)"
      ]
     },
     "execution_count": 148,
     "metadata": {
      "tags": []
     },
     "output_type": "execute_result"
    }
   ],
   "source": [
    "november_df.shape"
   ]
  },
  {
   "cell_type": "code",
   "execution_count": 149,
   "metadata": {
    "colab": {
     "base_uri": "https://localhost:8080/",
     "height": 34
    },
    "colab_type": "code",
    "id": "F9OcD41Buu6a",
    "outputId": "c83f5a71-da7b-4cb3-b011-24503af72019"
   },
   "outputs": [
    {
     "data": {
      "text/plain": [
       "(25488, 4)"
      ]
     },
     "execution_count": 149,
     "metadata": {
      "tags": []
     },
     "output_type": "execute_result"
    }
   ],
   "source": [
    "december_df.shape"
   ]
  },
  {
   "cell_type": "code",
   "execution_count": 150,
   "metadata": {
    "colab": {
     "base_uri": "https://localhost:8080/",
     "height": 34
    },
    "colab_type": "code",
    "id": "SWkUVgTBuyJP",
    "outputId": "443747c4-c2fa-41b9-f88e-3c4bb02d3bfe"
   },
   "outputs": [
    {
     "data": {
      "text/plain": [
       "(35364, 4)"
      ]
     },
     "execution_count": 150,
     "metadata": {
      "tags": []
     },
     "output_type": "execute_result"
    }
   ],
   "source": [
    "jan_df.shape"
   ]
  },
  {
   "cell_type": "code",
   "execution_count": 151,
   "metadata": {
    "colab": {
     "base_uri": "https://localhost:8080/",
     "height": 34
    },
    "colab_type": "code",
    "id": "6JjPcU-Cu0Zp",
    "outputId": "4d65948e-6bb8-47e7-80a3-609fbe342419"
   },
   "outputs": [
    {
     "data": {
      "text/plain": [
       "(8008, 4)"
      ]
     },
     "execution_count": 151,
     "metadata": {
      "tags": []
     },
     "output_type": "execute_result"
    }
   ],
   "source": [
    "feb_df.shape"
   ]
  },
  {
   "cell_type": "code",
   "execution_count": 152,
   "metadata": {
    "colab": {
     "base_uri": "https://localhost:8080/",
     "height": 105
    },
    "colab_type": "code",
    "id": "WmzTROKmbe8s",
    "outputId": "e469778b-ce99-46de-cdce-b1b282151479"
   },
   "outputs": [
    {
     "data": {
      "text/plain": [
       "Date                object\n",
       "Time                object\n",
       "Zone                object\n",
       "Temperature (F)    float64\n",
       "dtype: object"
      ]
     },
     "execution_count": 152,
     "metadata": {
      "tags": []
     },
     "output_type": "execute_result"
    }
   ],
   "source": [
    "november_df.dtypes"
   ]
  },
  {
   "cell_type": "code",
   "execution_count": 153,
   "metadata": {
    "colab": {
     "base_uri": "https://localhost:8080/",
     "height": 34
    },
    "colab_type": "code",
    "id": "fvtyq92kbhvw",
    "outputId": "093ce797-8210-4263-fa6d-df24c9b206cc"
   },
   "outputs": [
    {
     "data": {
      "text/plain": [
       "array(['EST'], dtype=object)"
      ]
     },
     "execution_count": 153,
     "metadata": {
      "tags": []
     },
     "output_type": "execute_result"
    }
   ],
   "source": [
    "november_df['Zone'].unique()"
   ]
  },
  {
   "cell_type": "code",
   "execution_count": 0,
   "metadata": {
    "colab": {},
    "colab_type": "code",
    "id": "_YI_J_SWiel-"
   },
   "outputs": [],
   "source": [
    "november_df['Date_Time'] = pd.to_datetime(november_df['Date'] + ' ' + november_df['Time'])\n",
    "december_df['Date_Time'] = pd.to_datetime(december_df['Date'] + ' ' + december_df['Time'])\n",
    "jan_df['Date_Time'] = pd.to_datetime(jan_df['Date'] + ' ' + jan_df['Time'])\n",
    "feb_df['Date_Time'] = pd.to_datetime(feb_df['Date'] + ' ' + feb_df['Time'])"
   ]
  },
  {
   "cell_type": "code",
   "execution_count": 155,
   "metadata": {
    "colab": {
     "base_uri": "https://localhost:8080/",
     "height": 197
    },
    "colab_type": "code",
    "id": "vouTghSJiucv",
    "outputId": "f86c6d9e-1e5a-4214-f114-2af0590db714"
   },
   "outputs": [
    {
     "data": {
      "text/html": [
       "<div>\n",
       "<style scoped>\n",
       "    .dataframe tbody tr th:only-of-type {\n",
       "        vertical-align: middle;\n",
       "    }\n",
       "\n",
       "    .dataframe tbody tr th {\n",
       "        vertical-align: top;\n",
       "    }\n",
       "\n",
       "    .dataframe thead th {\n",
       "        text-align: right;\n",
       "    }\n",
       "</style>\n",
       "<table border=\"1\" class=\"dataframe\">\n",
       "  <thead>\n",
       "    <tr style=\"text-align: right;\">\n",
       "      <th></th>\n",
       "      <th>Date</th>\n",
       "      <th>Time</th>\n",
       "      <th>Zone</th>\n",
       "      <th>Temperature (F)</th>\n",
       "      <th>Date_Time</th>\n",
       "    </tr>\n",
       "  </thead>\n",
       "  <tbody>\n",
       "    <tr>\n",
       "      <th>0</th>\n",
       "      <td>2019-11-04</td>\n",
       "      <td>16:50</td>\n",
       "      <td>EST</td>\n",
       "      <td>67.5</td>\n",
       "      <td>2019-11-04 16:50:00</td>\n",
       "    </tr>\n",
       "    <tr>\n",
       "      <th>1</th>\n",
       "      <td>2019-11-04</td>\n",
       "      <td>16:51</td>\n",
       "      <td>EST</td>\n",
       "      <td>67.3</td>\n",
       "      <td>2019-11-04 16:51:00</td>\n",
       "    </tr>\n",
       "    <tr>\n",
       "      <th>2</th>\n",
       "      <td>2019-11-04</td>\n",
       "      <td>16:52</td>\n",
       "      <td>EST</td>\n",
       "      <td>67.3</td>\n",
       "      <td>2019-11-04 16:52:00</td>\n",
       "    </tr>\n",
       "    <tr>\n",
       "      <th>3</th>\n",
       "      <td>2019-11-04</td>\n",
       "      <td>16:53</td>\n",
       "      <td>EST</td>\n",
       "      <td>67.3</td>\n",
       "      <td>2019-11-04 16:53:00</td>\n",
       "    </tr>\n",
       "    <tr>\n",
       "      <th>4</th>\n",
       "      <td>2019-11-04</td>\n",
       "      <td>16:54</td>\n",
       "      <td>EST</td>\n",
       "      <td>67.2</td>\n",
       "      <td>2019-11-04 16:54:00</td>\n",
       "    </tr>\n",
       "  </tbody>\n",
       "</table>\n",
       "</div>"
      ],
      "text/plain": [
       "         Date   Time Zone  Temperature (F)           Date_Time\n",
       "0  2019-11-04  16:50  EST             67.5 2019-11-04 16:50:00\n",
       "1  2019-11-04  16:51  EST             67.3 2019-11-04 16:51:00\n",
       "2  2019-11-04  16:52  EST             67.3 2019-11-04 16:52:00\n",
       "3  2019-11-04  16:53  EST             67.3 2019-11-04 16:53:00\n",
       "4  2019-11-04  16:54  EST             67.2 2019-11-04 16:54:00"
      ]
     },
     "execution_count": 155,
     "metadata": {
      "tags": []
     },
     "output_type": "execute_result"
    }
   ],
   "source": [
    "november_df.head()"
   ]
  },
  {
   "cell_type": "code",
   "execution_count": 156,
   "metadata": {
    "colab": {
     "base_uri": "https://localhost:8080/",
     "height": 141
    },
    "colab_type": "code",
    "id": "RDBnkYKQleVn",
    "outputId": "4514a0d3-b085-45fb-ce95-94fd0d0a7c42"
   },
   "outputs": [
    {
     "data": {
      "text/plain": [
       "array(['2019-11-04', '2019-11-05', '2019-11-06', '2019-11-07',\n",
       "       '2019-11-08', '2019-11-09', '2019-11-10', '2019-11-11',\n",
       "       '2019-11-12', '2019-11-13', '2019-11-14', '2019-11-15',\n",
       "       '2019-11-16', '2019-11-17', '2019-11-18', '2019-11-19',\n",
       "       '2019-11-20', '2019-11-21', '2019-11-22', '2019-11-23',\n",
       "       '2019-11-24', '2019-11-25', '2019-11-26', '2019-11-27',\n",
       "       '2019-11-28', '2019-11-29', '2019-11-30'], dtype=object)"
      ]
     },
     "execution_count": 156,
     "metadata": {
      "tags": []
     },
     "output_type": "execute_result"
    }
   ],
   "source": [
    "november_df['Date'].unique()"
   ]
  },
  {
   "cell_type": "markdown",
   "metadata": {
    "colab_type": "text",
    "id": "bJoZDDkEcAvU"
   },
   "source": [
    "# 3. **Find Missing (or) Null Values**  "
   ]
  },
  {
   "cell_type": "code",
   "execution_count": 157,
   "metadata": {
    "colab": {
     "base_uri": "https://localhost:8080/",
     "height": 123
    },
    "colab_type": "code",
    "id": "ELkny0Jrb6ei",
    "outputId": "21a309cc-0929-41af-c210-295f56d297a0"
   },
   "outputs": [
    {
     "data": {
      "text/plain": [
       "Date               0\n",
       "Time               0\n",
       "Zone               0\n",
       "Temperature (F)    0\n",
       "Date_Time          0\n",
       "dtype: int64"
      ]
     },
     "execution_count": 157,
     "metadata": {
      "tags": []
     },
     "output_type": "execute_result"
    }
   ],
   "source": [
    "november_df.isnull().sum()"
   ]
  },
  {
   "cell_type": "code",
   "execution_count": 158,
   "metadata": {
    "colab": {
     "base_uri": "https://localhost:8080/",
     "height": 123
    },
    "colab_type": "code",
    "id": "sntBcPEqu4dX",
    "outputId": "c647211e-9f14-423c-e147-2e8a5aa87c7f"
   },
   "outputs": [
    {
     "data": {
      "text/plain": [
       "Date               0\n",
       "Time               0\n",
       "Zone               0\n",
       "Temperature (F)    0\n",
       "Date_Time          0\n",
       "dtype: int64"
      ]
     },
     "execution_count": 158,
     "metadata": {
      "tags": []
     },
     "output_type": "execute_result"
    }
   ],
   "source": [
    "december_df.isnull().sum()"
   ]
  },
  {
   "cell_type": "code",
   "execution_count": 159,
   "metadata": {
    "colab": {
     "base_uri": "https://localhost:8080/",
     "height": 123
    },
    "colab_type": "code",
    "id": "J-klCrgTu87c",
    "outputId": "67d15e98-3ce8-4a21-ffd9-dcde1c8ac00e"
   },
   "outputs": [
    {
     "data": {
      "text/plain": [
       "Date               0\n",
       "Time               0\n",
       "Zone               0\n",
       "Temperature (F)    0\n",
       "Date_Time          0\n",
       "dtype: int64"
      ]
     },
     "execution_count": 159,
     "metadata": {
      "tags": []
     },
     "output_type": "execute_result"
    }
   ],
   "source": [
    "jan_df.isnull().sum()"
   ]
  },
  {
   "cell_type": "code",
   "execution_count": 160,
   "metadata": {
    "colab": {
     "base_uri": "https://localhost:8080/",
     "height": 123
    },
    "colab_type": "code",
    "id": "a4_GLrN2vAuH",
    "outputId": "2f3a415d-3da1-4466-c583-d8b86dfa3829"
   },
   "outputs": [
    {
     "data": {
      "text/plain": [
       "Date               0\n",
       "Time               0\n",
       "Zone               0\n",
       "Temperature (F)    0\n",
       "Date_Time          0\n",
       "dtype: int64"
      ]
     },
     "execution_count": 160,
     "metadata": {
      "tags": []
     },
     "output_type": "execute_result"
    }
   ],
   "source": [
    "feb_df.isnull().sum()"
   ]
  },
  {
   "cell_type": "markdown",
   "metadata": {
    "colab_type": "text",
    "id": "g_v8GDVKjO2m"
   },
   "source": [
    "# **4. Dataset Visualization**"
   ]
  },
  {
   "cell_type": "markdown",
   "metadata": {
    "colab_type": "text",
    "id": "cHlTw301jWqk"
   },
   "source": [
    "### Line Plot"
   ]
  },
  {
   "cell_type": "code",
   "execution_count": 161,
   "metadata": {
    "colab": {
     "base_uri": "https://localhost:8080/",
     "height": 384
    },
    "colab_type": "code",
    "id": "7dnGsfYKdPKW",
    "outputId": "6d19397c-eea5-41ef-c74c-5bd110637fda"
   },
   "outputs": [
    {
     "data": {
      "image/png": "[encoded data removed]",
      "text/plain": [
       "<Figure size 1440x432 with 1 Axes>"
      ]
     },
     "metadata": {
      "needs_background": "light",
      "tags": []
     },
     "output_type": "display_data"
    }
   ],
   "source": [
    "november_df.plot(x = 'Date_Time', y = 'Temperature (F)',figsize=(20,6)) #style = 'k.' for dotted lines\n",
    "plt.show()"
   ]
  },
  {
   "cell_type": "markdown",
   "metadata": {
    "colab_type": "text",
    "id": "xQSaBx1emmEe"
   },
   "source": [
    "### Line plot -- Group By day and then plot all the temperatures of different times on the particular day"
   ]
  },
  {
   "cell_type": "code",
   "execution_count": 0,
   "metadata": {
    "colab": {},
    "colab_type": "code",
    "id": "2Cwwmo51j071"
   },
   "outputs": [],
   "source": [
    "#from pandas import DataFrame\n",
    "#df = november_df.drop(['Zone', 'Date_Time'], axis = 1)\n",
    "#groups = df.set_index('Date').groupby('Date')\n",
    "#groups = df.groupby(Grouper(freq='A'))\n",
    "#Days = DataFrame()\n",
    "#for name, group in groups:\n",
    "#\tDays[name] = group.values\n",
    "#Days.plot(subplots=True, legend=False)\n",
    "#pyplot.show()"
   ]
  },
  {
   "cell_type": "markdown",
   "metadata": {
    "colab_type": "text",
    "id": "aX0l_Nuv7tMb"
   },
   "source": [
    "# LSTM Model"
   ]
  },
  {
   "cell_type": "code",
   "execution_count": 0,
   "metadata": {
    "colab": {},
    "colab_type": "code",
    "id": "ggNMWh35N_I_"
   },
   "outputs": [],
   "source": [
    "from sklearn.preprocessing import MinMaxScaler\n",
    "import tensorflow as tf\n",
    "from statsmodels.tools.eval_measures import rmse"
   ]
  },
  {
   "cell_type": "code",
   "execution_count": 0,
   "metadata": {
    "colab": {},
    "colab_type": "code",
    "id": "TsNbvbdB7sHo"
   },
   "outputs": [],
   "source": [
    "df1 = november_df.drop(['Date', 'Time', 'Zone'], axis = 1)\n",
    "df2 = december_df.drop(['Date', 'Time', 'Zone'], axis = 1)\n",
    "df3 = jan_df.drop(['Date', 'Time', 'Zone'], axis = 1)\n",
    "df4 = feb_df.drop(['Date', 'Time', 'Zone'], axis = 1)"
   ]
  },
  {
   "cell_type": "code",
   "execution_count": 0,
   "metadata": {
    "colab": {},
    "colab_type": "code",
    "id": "nO1EDRejJ5nH"
   },
   "outputs": [],
   "source": [
    "final_df = pd.DataFrame()\n",
    "final_df = final_df.append(df1).append(df2).append(df3).append(df4)"
   ]
  },
  {
   "cell_type": "code",
   "execution_count": 166,
   "metadata": {
    "colab": {
     "base_uri": "https://localhost:8080/",
     "height": 197
    },
    "colab_type": "code",
    "id": "sPoc251TKHNq",
    "outputId": "1f68d097-5eec-4343-aa3f-8280fe42df92"
   },
   "outputs": [
    {
     "data": {
      "text/html": [
       "<div>\n",
       "<style scoped>\n",
       "    .dataframe tbody tr th:only-of-type {\n",
       "        vertical-align: middle;\n",
       "    }\n",
       "\n",
       "    .dataframe tbody tr th {\n",
       "        vertical-align: top;\n",
       "    }\n",
       "\n",
       "    .dataframe thead th {\n",
       "        text-align: right;\n",
       "    }\n",
       "</style>\n",
       "<table border=\"1\" class=\"dataframe\">\n",
       "  <thead>\n",
       "    <tr style=\"text-align: right;\">\n",
       "      <th></th>\n",
       "      <th>Temperature (F)</th>\n",
       "      <th>Date_Time</th>\n",
       "    </tr>\n",
       "  </thead>\n",
       "  <tbody>\n",
       "    <tr>\n",
       "      <th>0</th>\n",
       "      <td>67.5</td>\n",
       "      <td>2019-11-04 16:50:00</td>\n",
       "    </tr>\n",
       "    <tr>\n",
       "      <th>1</th>\n",
       "      <td>67.3</td>\n",
       "      <td>2019-11-04 16:51:00</td>\n",
       "    </tr>\n",
       "    <tr>\n",
       "      <th>2</th>\n",
       "      <td>67.3</td>\n",
       "      <td>2019-11-04 16:52:00</td>\n",
       "    </tr>\n",
       "    <tr>\n",
       "      <th>3</th>\n",
       "      <td>67.3</td>\n",
       "      <td>2019-11-04 16:53:00</td>\n",
       "    </tr>\n",
       "    <tr>\n",
       "      <th>4</th>\n",
       "      <td>67.2</td>\n",
       "      <td>2019-11-04 16:54:00</td>\n",
       "    </tr>\n",
       "  </tbody>\n",
       "</table>\n",
       "</div>"
      ],
      "text/plain": [
       "   Temperature (F)           Date_Time\n",
       "0             67.5 2019-11-04 16:50:00\n",
       "1             67.3 2019-11-04 16:51:00\n",
       "2             67.3 2019-11-04 16:52:00\n",
       "3             67.3 2019-11-04 16:53:00\n",
       "4             67.2 2019-11-04 16:54:00"
      ]
     },
     "execution_count": 166,
     "metadata": {
      "tags": []
     },
     "output_type": "execute_result"
    }
   ],
   "source": [
    "final_df.sort_values('Date_Time')\n",
    "final_df.head()"
   ]
  },
  {
   "cell_type": "code",
   "execution_count": 167,
   "metadata": {
    "colab": {
     "base_uri": "https://localhost:8080/",
     "height": 227
    },
    "colab_type": "code",
    "id": "-ioueEDe7sIT",
    "outputId": "320373e4-6c48-42ca-cbe2-f205cd31acd8"
   },
   "outputs": [
    {
     "data": {
      "text/html": [
       "<div>\n",
       "<style scoped>\n",
       "    .dataframe tbody tr th:only-of-type {\n",
       "        vertical-align: middle;\n",
       "    }\n",
       "\n",
       "    .dataframe tbody tr th {\n",
       "        vertical-align: top;\n",
       "    }\n",
       "\n",
       "    .dataframe thead th {\n",
       "        text-align: right;\n",
       "    }\n",
       "</style>\n",
       "<table border=\"1\" class=\"dataframe\">\n",
       "  <thead>\n",
       "    <tr style=\"text-align: right;\">\n",
       "      <th></th>\n",
       "      <th>Temperature (F)</th>\n",
       "    </tr>\n",
       "    <tr>\n",
       "      <th>Date_Time</th>\n",
       "      <th></th>\n",
       "    </tr>\n",
       "  </thead>\n",
       "  <tbody>\n",
       "    <tr>\n",
       "      <th>2019-11-04 16:50:00</th>\n",
       "      <td>67.5</td>\n",
       "    </tr>\n",
       "    <tr>\n",
       "      <th>2019-11-04 16:51:00</th>\n",
       "      <td>67.3</td>\n",
       "    </tr>\n",
       "    <tr>\n",
       "      <th>2019-11-04 16:52:00</th>\n",
       "      <td>67.3</td>\n",
       "    </tr>\n",
       "    <tr>\n",
       "      <th>2019-11-04 16:53:00</th>\n",
       "      <td>67.3</td>\n",
       "    </tr>\n",
       "    <tr>\n",
       "      <th>2019-11-04 16:54:00</th>\n",
       "      <td>67.2</td>\n",
       "    </tr>\n",
       "  </tbody>\n",
       "</table>\n",
       "</div>"
      ],
      "text/plain": [
       "                     Temperature (F)\n",
       "Date_Time                           \n",
       "2019-11-04 16:50:00             67.5\n",
       "2019-11-04 16:51:00             67.3\n",
       "2019-11-04 16:52:00             67.3\n",
       "2019-11-04 16:53:00             67.3\n",
       "2019-11-04 16:54:00             67.2"
      ]
     },
     "execution_count": 167,
     "metadata": {
      "tags": []
     },
     "output_type": "execute_result"
    }
   ],
   "source": [
    "final_df.set_index('Date_Time',inplace=True)\n",
    "final_df.head()"
   ]
  },
  {
   "cell_type": "code",
   "execution_count": 168,
   "metadata": {
    "colab": {
     "base_uri": "https://localhost:8080/",
     "height": 227
    },
    "colab_type": "code",
    "id": "yVO7VudEaoJ6",
    "outputId": "5c718b69-5bdb-442b-a2ff-ca80c45e94a9"
   },
   "outputs": [
    {
     "data": {
      "text/html": [
       "<div>\n",
       "<style scoped>\n",
       "    .dataframe tbody tr th:only-of-type {\n",
       "        vertical-align: middle;\n",
       "    }\n",
       "\n",
       "    .dataframe tbody tr th {\n",
       "        vertical-align: top;\n",
       "    }\n",
       "\n",
       "    .dataframe thead th {\n",
       "        text-align: right;\n",
       "    }\n",
       "</style>\n",
       "<table border=\"1\" class=\"dataframe\">\n",
       "  <thead>\n",
       "    <tr style=\"text-align: right;\">\n",
       "      <th></th>\n",
       "      <th>Temp_F</th>\n",
       "    </tr>\n",
       "    <tr>\n",
       "      <th>Date_Time</th>\n",
       "      <th></th>\n",
       "    </tr>\n",
       "  </thead>\n",
       "  <tbody>\n",
       "    <tr>\n",
       "      <th>2019-11-04 16:50:00</th>\n",
       "      <td>67.5</td>\n",
       "    </tr>\n",
       "    <tr>\n",
       "      <th>2019-11-04 16:51:00</th>\n",
       "      <td>67.3</td>\n",
       "    </tr>\n",
       "    <tr>\n",
       "      <th>2019-11-04 16:52:00</th>\n",
       "      <td>67.3</td>\n",
       "    </tr>\n",
       "    <tr>\n",
       "      <th>2019-11-04 16:53:00</th>\n",
       "      <td>67.3</td>\n",
       "    </tr>\n",
       "    <tr>\n",
       "      <th>2019-11-04 16:54:00</th>\n",
       "      <td>67.2</td>\n",
       "    </tr>\n",
       "  </tbody>\n",
       "</table>\n",
       "</div>"
      ],
      "text/plain": [
       "                     Temp_F\n",
       "Date_Time                  \n",
       "2019-11-04 16:50:00    67.5\n",
       "2019-11-04 16:51:00    67.3\n",
       "2019-11-04 16:52:00    67.3\n",
       "2019-11-04 16:53:00    67.3\n",
       "2019-11-04 16:54:00    67.2"
      ]
     },
     "execution_count": 168,
     "metadata": {
      "tags": []
     },
     "output_type": "execute_result"
    }
   ],
   "source": [
    "final_df.rename(columns={'Temperature (F)':'Temp_F'},inplace=True)\n",
    "final_df.head()"
   ]
  },
  {
   "cell_type": "markdown",
   "metadata": {
    "colab_type": "text",
    "id": "JGSkHRDIrhet"
   },
   "source": [
    "### Create a DataFrame which has all the data points from nov2019 to dec 2020 as a continuous timeseries, with records for all the 1 min intervals\n",
    "### Then we are using KNN method for imputation\n",
    "--Dinakar"
   ]
  },
  {
   "cell_type": "code",
   "execution_count": 0,
   "metadata": {
    "colab": {},
    "colab_type": "code",
    "id": "5M6gaPrSMTcV"
   },
   "outputs": [],
   "source": [
    "df1.set_index('Date_Time',inplace=True)\n",
    "df2.set_index('Date_Time',inplace=True)\n",
    "df3.set_index('Date_Time',inplace=True)\n",
    "df4.set_index('Date_Time',inplace=True)"
   ]
  },
  {
   "cell_type": "code",
   "execution_count": 170,
   "metadata": {
    "colab": {
     "base_uri": "https://localhost:8080/",
     "height": 158
    },
    "colab_type": "code",
    "id": "K6qX2q8xK11N",
    "outputId": "522b1a6e-54c5-4a07-e865-9d5251c82135"
   },
   "outputs": [
    {
     "name": "stdout",
     "output_type": "stream",
     "text": [
      "nov\n",
      "(34226, 1)\n",
      "dec\n",
      "(25488, 1)\n",
      "jan\n",
      "(35364, 1)\n",
      "feb\n",
      "(8008, 1)\n"
     ]
    }
   ],
   "source": [
    "df_names = [df1, df2, df3, df4]\n",
    "months = ['nov', 'dec', 'jan', 'feb']\n",
    "data_full = pd.DataFrame(columns = ['Time','Temperature'])\n",
    "\n",
    "for month, name in zip(months,df_names):\n",
    "    print(month)\n",
    "    print(name.shape)\n",
    "    month = name.groupby(pd.Grouper(freq='1Min'))\n",
    "    new_df = pd.DataFrame(columns = ['Time','Temperature'])\n",
    "    for name, group in month:\n",
    "        if (len(group.values.flatten()) == 0):\n",
    "            new_df = new_df.append({'Time':name,'Temperature':np.nan}, ignore_index=True)\n",
    "        else:\n",
    "            new_df = new_df.append({'Time':name,'Temperature':group.values.flatten()[0]}, ignore_index=True)\n",
    "    #data_full has the continuous data with nan values            \n",
    "    data_full = pd.concat([data_full, new_df], sort=False, ignore_index=True)"
   ]
  },
  {
   "cell_type": "code",
   "execution_count": 0,
   "metadata": {
    "colab": {},
    "colab_type": "code",
    "id": "XokIGN80bD6E"
   },
   "outputs": [],
   "source": [
    "  data_full.set_index('Time', drop=True, append=False, inplace=True, verify_integrity=False)"
   ]
  },
  {
   "cell_type": "code",
   "execution_count": 172,
   "metadata": {
    "colab": {
     "base_uri": "https://localhost:8080/",
     "height": 34
    },
    "colab_type": "code",
    "id": "CU391zTvLlpT",
    "outputId": "2116cb87-5283-4e6b-a495-7f2f763af073"
   },
   "outputs": [
    {
     "data": {
      "text/plain": [
       "(133927, 1)"
      ]
     },
     "execution_count": 172,
     "metadata": {
      "tags": []
     },
     "output_type": "execute_result"
    }
   ],
   "source": [
    "data_full.shape"
   ]
  },
  {
   "cell_type": "code",
   "execution_count": 173,
   "metadata": {
    "colab": {
     "base_uri": "https://localhost:8080/",
     "height": 227
    },
    "colab_type": "code",
    "id": "IB2LgklPUe28",
    "outputId": "9a71c3dd-c56e-4905-affd-bbb09e939b29"
   },
   "outputs": [
    {
     "data": {
      "text/html": [
       "<div>\n",
       "<style scoped>\n",
       "    .dataframe tbody tr th:only-of-type {\n",
       "        vertical-align: middle;\n",
       "    }\n",
       "\n",
       "    .dataframe tbody tr th {\n",
       "        vertical-align: top;\n",
       "    }\n",
       "\n",
       "    .dataframe thead th {\n",
       "        text-align: right;\n",
       "    }\n",
       "</style>\n",
       "<table border=\"1\" class=\"dataframe\">\n",
       "  <thead>\n",
       "    <tr style=\"text-align: right;\">\n",
       "      <th></th>\n",
       "      <th>Temperature</th>\n",
       "    </tr>\n",
       "    <tr>\n",
       "      <th>Time</th>\n",
       "      <th></th>\n",
       "    </tr>\n",
       "  </thead>\n",
       "  <tbody>\n",
       "    <tr>\n",
       "      <th>2019-11-28 16:45:00</th>\n",
       "      <td>40.6</td>\n",
       "    </tr>\n",
       "    <tr>\n",
       "      <th>2019-12-27 10:23:00</th>\n",
       "      <td>42.6</td>\n",
       "    </tr>\n",
       "    <tr>\n",
       "      <th>2019-11-29 00:34:00</th>\n",
       "      <td>40.6</td>\n",
       "    </tr>\n",
       "    <tr>\n",
       "      <th>2020-02-05 16:59:00</th>\n",
       "      <td>39.4</td>\n",
       "    </tr>\n",
       "    <tr>\n",
       "      <th>2019-11-08 00:20:00</th>\n",
       "      <td>38.5</td>\n",
       "    </tr>\n",
       "  </tbody>\n",
       "</table>\n",
       "</div>"
      ],
      "text/plain": [
       "                     Temperature\n",
       "Time                            \n",
       "2019-11-28 16:45:00         40.6\n",
       "2019-12-27 10:23:00         42.6\n",
       "2019-11-29 00:34:00         40.6\n",
       "2020-02-05 16:59:00         39.4\n",
       "2019-11-08 00:20:00         38.5"
      ]
     },
     "execution_count": 173,
     "metadata": {
      "tags": []
     },
     "output_type": "execute_result"
    }
   ],
   "source": [
    "data_full.sample(5)"
   ]
  },
  {
   "cell_type": "code",
   "execution_count": 174,
   "metadata": {
    "colab": {
     "base_uri": "https://localhost:8080/",
     "height": 52
    },
    "colab_type": "code",
    "id": "rTkvJ04FUU0r",
    "outputId": "ad145009-a5cc-4794-a083-b20205372498"
   },
   "outputs": [
    {
     "data": {
      "text/plain": [
       "Temperature    30841\n",
       "dtype: int64"
      ]
     },
     "execution_count": 174,
     "metadata": {
      "tags": []
     },
     "output_type": "execute_result"
    }
   ],
   "source": [
    "#We see that we have 30841 null values\n",
    "data_full.isna().sum()"
   ]
  },
  {
   "cell_type": "code",
   "execution_count": 0,
   "metadata": {
    "colab": {},
    "colab_type": "code",
    "id": "ABeu_6dEUc1z"
   },
   "outputs": [],
   "source": [
    "#Impute missing values in numeric columns using kNN Imputation\n",
    "imputer = KNNImputer(n_neighbors=15, weights=\"uniform\")\n",
    "imputed_values = imputer.fit_transform(data_full)"
   ]
  },
  {
   "cell_type": "code",
   "execution_count": 176,
   "metadata": {
    "colab": {
     "base_uri": "https://localhost:8080/",
     "height": 245
    },
    "colab_type": "code",
    "id": "03FSUFwTVvKd",
    "outputId": "e2391723-6f56-46e0-f286-587b09a49b7e"
   },
   "outputs": [
    {
     "name": "stdout",
     "output_type": "stream",
     "text": [
      "(133927, 1)\n"
     ]
    },
    {
     "data": {
      "text/html": [
       "<div>\n",
       "<style scoped>\n",
       "    .dataframe tbody tr th:only-of-type {\n",
       "        vertical-align: middle;\n",
       "    }\n",
       "\n",
       "    .dataframe tbody tr th {\n",
       "        vertical-align: top;\n",
       "    }\n",
       "\n",
       "    .dataframe thead th {\n",
       "        text-align: right;\n",
       "    }\n",
       "</style>\n",
       "<table border=\"1\" class=\"dataframe\">\n",
       "  <thead>\n",
       "    <tr style=\"text-align: right;\">\n",
       "      <th></th>\n",
       "      <th>Temperature</th>\n",
       "    </tr>\n",
       "    <tr>\n",
       "      <th>Time</th>\n",
       "      <th></th>\n",
       "    </tr>\n",
       "  </thead>\n",
       "  <tbody>\n",
       "    <tr>\n",
       "      <th>2019-11-04 16:50:00</th>\n",
       "      <td>67.5</td>\n",
       "    </tr>\n",
       "    <tr>\n",
       "      <th>2019-11-04 16:51:00</th>\n",
       "      <td>67.3</td>\n",
       "    </tr>\n",
       "    <tr>\n",
       "      <th>2019-11-04 16:52:00</th>\n",
       "      <td>67.3</td>\n",
       "    </tr>\n",
       "    <tr>\n",
       "      <th>2019-11-04 16:53:00</th>\n",
       "      <td>67.3</td>\n",
       "    </tr>\n",
       "    <tr>\n",
       "      <th>2019-11-04 16:54:00</th>\n",
       "      <td>67.2</td>\n",
       "    </tr>\n",
       "  </tbody>\n",
       "</table>\n",
       "</div>"
      ],
      "text/plain": [
       "                     Temperature\n",
       "Time                            \n",
       "2019-11-04 16:50:00         67.5\n",
       "2019-11-04 16:51:00         67.3\n",
       "2019-11-04 16:52:00         67.3\n",
       "2019-11-04 16:53:00         67.3\n",
       "2019-11-04 16:54:00         67.2"
      ]
     },
     "execution_count": 176,
     "metadata": {
      "tags": []
     },
     "output_type": "execute_result"
    }
   ],
   "source": [
    "#convert the numeric columns after imputation to a dataframe\n",
    "#data_imputed is complete datset imputed with KNN imputation values\n",
    "data_imputed = pd.DataFrame(imputed_values, columns=['Temperature'])\n",
    "data_imputed.index = data_full.index\n",
    "print(data_imputed.shape)\n",
    "data_imputed.head()"
   ]
  },
  {
   "cell_type": "code",
   "execution_count": 177,
   "metadata": {
    "colab": {
     "base_uri": "https://localhost:8080/",
     "height": 230
    },
    "colab_type": "code",
    "id": "uSd_H9SMeIYQ",
    "outputId": "925ab767-b884-40b4-f1c9-da48881dc9f1"
   },
   "outputs": [
    {
     "data": {
      "text/plain": [
       "DatetimeIndex(['2019-11-04 16:50:00', '2019-11-04 16:51:00',\n",
       "               '2019-11-04 16:52:00', '2019-11-04 16:53:00',\n",
       "               '2019-11-04 16:54:00', '2019-11-04 16:55:00',\n",
       "               '2019-11-04 16:56:00', '2019-11-04 16:57:00',\n",
       "               '2019-11-04 16:58:00', '2019-11-04 16:59:00',\n",
       "               ...\n",
       "               '2020-02-06 13:51:00', '2020-02-06 13:52:00',\n",
       "               '2020-02-06 13:53:00', '2020-02-06 13:54:00',\n",
       "               '2020-02-06 13:55:00', '2020-02-06 13:56:00',\n",
       "               '2020-02-06 13:57:00', '2020-02-06 13:58:00',\n",
       "               '2020-02-06 13:59:00', '2020-02-06 14:00:00'],\n",
       "              dtype='datetime64[ns]', name='Time', length=133927, freq=None)"
      ]
     },
     "execution_count": 177,
     "metadata": {
      "tags": []
     },
     "output_type": "execute_result"
    }
   ],
   "source": [
    "data_imputed.index"
   ]
  },
  {
   "cell_type": "code",
   "execution_count": 178,
   "metadata": {
    "colab": {
     "base_uri": "https://localhost:8080/",
     "height": 52
    },
    "colab_type": "code",
    "id": "UXGbxL3BWRzz",
    "outputId": "6cdebd19-bbbb-499f-abfb-41702c2e7014"
   },
   "outputs": [
    {
     "data": {
      "text/plain": [
       "Temperature    0\n",
       "dtype: int64"
      ]
     },
     "execution_count": 178,
     "metadata": {
      "tags": []
     },
     "output_type": "execute_result"
    }
   ],
   "source": [
    "data_imputed.isna().sum()"
   ]
  },
  {
   "cell_type": "markdown",
   "metadata": {
    "colab_type": "text",
    "id": "Yj4H73-Rszlq"
   },
   "source": [
    "##  Create training and test datasets by Standardising the input"
   ]
  },
  {
   "cell_type": "code",
   "execution_count": 0,
   "metadata": {
    "colab": {},
    "colab_type": "code",
    "id": "BaMaqw-BLAF4"
   },
   "outputs": [],
   "source": [
    "#70% examples will used for training (in the begining)\n",
    "train_size = int(len(data_imputed) * 0.70)\n",
    "\n",
    "#30% will be used for Test\n",
    "test_size = len(data_imputed - train_size)"
   ]
  },
  {
   "cell_type": "code",
   "execution_count": 0,
   "metadata": {
    "colab": {},
    "colab_type": "code",
    "id": "rtaPfYq-OUVY"
   },
   "outputs": [],
   "source": [
    "from sklearn.preprocessing import StandardScaler"
   ]
  },
  {
   "cell_type": "code",
   "execution_count": 0,
   "metadata": {
    "colab": {},
    "colab_type": "code",
    "id": "okQTsjwpLKl9"
   },
   "outputs": [],
   "source": [
    "#Normalize the data\n",
    "scaler = StandardScaler()\n",
    "scaled = scaler.fit_transform(data_imputed)"
   ]
  },
  {
   "cell_type": "code",
   "execution_count": 0,
   "metadata": {
    "colab": {},
    "colab_type": "code",
    "id": "jFS_ttuU_coI"
   },
   "outputs": [],
   "source": [
    "#70% examples will used for training (in the begining)\n",
    "train_size = int(len(scaled) * 0.70)\n",
    "\n",
    "#30% will be used for Test\n",
    "test_size = len(scaled - train_size)"
   ]
  },
  {
   "cell_type": "code",
   "execution_count": 183,
   "metadata": {
    "colab": {
     "base_uri": "https://localhost:8080/",
     "height": 52
    },
    "colab_type": "code",
    "id": "G3h-5Zq5_ebT",
    "outputId": "f9138a2f-cd28-4bd4-9c27-2333f75dbba8"
   },
   "outputs": [
    {
     "name": "stdout",
     "output_type": "stream",
     "text": [
      "train: 93748\n",
      "test: 40179\n"
     ]
    }
   ],
   "source": [
    "#Split the data\n",
    "train, test = scaled[0:train_size, :], scaled[train_size: len(scaled), :]\n",
    "print('train: {}\\ntest: {}'.format(len(train), len(test)))"
   ]
  },
  {
   "cell_type": "code",
   "execution_count": 184,
   "metadata": {
    "colab": {
     "base_uri": "https://localhost:8080/",
     "height": 34
    },
    "colab_type": "code",
    "id": "o22pvqoYL-q0",
    "outputId": "a5c31d9a-1e61-4d9f-b309-35f0efbe6cfb"
   },
   "outputs": [
    {
     "data": {
      "text/plain": [
       "(93748, 1)"
      ]
     },
     "execution_count": 184,
     "metadata": {
      "tags": []
     },
     "output_type": "execute_result"
    }
   ],
   "source": [
    "train.shape"
   ]
  },
  {
   "cell_type": "code",
   "execution_count": 185,
   "metadata": {
    "colab": {
     "base_uri": "https://localhost:8080/",
     "height": 34
    },
    "colab_type": "code",
    "id": "FJxgKPSVMA86",
    "outputId": "3470b4af-4121-439a-8b0c-052d95dde55f"
   },
   "outputs": [
    {
     "data": {
      "text/plain": [
       "(40179, 1)"
      ]
     },
     "execution_count": 185,
     "metadata": {
      "tags": []
     },
     "output_type": "execute_result"
    }
   ],
   "source": [
    "test.shape"
   ]
  },
  {
   "cell_type": "code",
   "execution_count": 0,
   "metadata": {
    "colab": {},
    "colab_type": "code",
    "id": "gUSZGooM3Vhi"
   },
   "outputs": [],
   "source": [
    "#window - how long the sequence will be\n",
    "def create_dataset(dataset, window=1):\n",
    "    \n",
    "    dataX, dataY = [], []\n",
    "    \n",
    "    for i in range(len(dataset)-window):\n",
    "        \n",
    "        a = dataset[i:(i+window), 0]        \n",
    "        dataX.append(a)\n",
    "        dataY.append(dataset[i + window, 0])\n",
    "    \n",
    "    return np.array(dataX), np.array(dataY)"
   ]
  },
  {
   "cell_type": "markdown",
   "metadata": {
    "colab_type": "text",
    "id": "1-dAnmQjVmvk"
   },
   "source": [
    "# 180 Min Prediction"
   ]
  },
  {
   "cell_type": "code",
   "execution_count": 0,
   "metadata": {
    "colab": {},
    "colab_type": "code",
    "id": "O5hCQzRf3Vk3"
   },
   "outputs": [],
   "source": [
    "#Create Input and Output\n",
    "window_size = 180\n",
    "X_train, y_train = create_dataset(train, window_size)\n",
    "X_test, y_test = create_dataset(test, window_size)"
   ]
  },
  {
   "cell_type": "code",
   "execution_count": 188,
   "metadata": {
    "colab": {
     "base_uri": "https://localhost:8080/",
     "height": 34
    },
    "colab_type": "code",
    "id": "nszp0gMQ3VoC",
    "outputId": "812d59bf-1f9e-4ee1-97d9-6e533957ee77"
   },
   "outputs": [
    {
     "data": {
      "text/plain": [
       "(93568, 180)"
      ]
     },
     "execution_count": 188,
     "metadata": {
      "tags": []
     },
     "output_type": "execute_result"
    }
   ],
   "source": [
    "X_train.shape"
   ]
  },
  {
   "cell_type": "code",
   "execution_count": 189,
   "metadata": {
    "colab": {
     "base_uri": "https://localhost:8080/",
     "height": 34
    },
    "colab_type": "code",
    "id": "P7P-PiFJ3VrK",
    "outputId": "99f4ec70-7bb3-492d-a936-6154691f2eb0"
   },
   "outputs": [
    {
     "data": {
      "text/plain": [
       "(93568,)"
      ]
     },
     "execution_count": 189,
     "metadata": {
      "tags": []
     },
     "output_type": "execute_result"
    }
   ],
   "source": [
    "y_train.shape"
   ]
  },
  {
   "cell_type": "code",
   "execution_count": 190,
   "metadata": {
    "colab": {
     "base_uri": "https://localhost:8080/",
     "height": 34
    },
    "colab_type": "code",
    "id": "_l8-zTKBhi7n",
    "outputId": "e4184efa-9660-4438-9007-8772a24def43"
   },
   "outputs": [
    {
     "name": "stdout",
     "output_type": "stream",
     "text": [
      "180\n"
     ]
    }
   ],
   "source": [
    "print(len(X_train[0]))"
   ]
  },
  {
   "cell_type": "code",
   "execution_count": 191,
   "metadata": {
    "colab": {
     "base_uri": "https://localhost:8080/",
     "height": 34
    },
    "colab_type": "code",
    "id": "mR_1purVki86",
    "outputId": "9f2d3a3c-8926-4c92-cca5-c86520f0c920"
   },
   "outputs": [
    {
     "data": {
      "text/plain": [
       "93568"
      ]
     },
     "execution_count": 191,
     "metadata": {
      "tags": []
     },
     "output_type": "execute_result"
    }
   ],
   "source": [
    "len(y_train)"
   ]
  },
  {
   "cell_type": "code",
   "execution_count": 192,
   "metadata": {
    "colab": {
     "base_uri": "https://localhost:8080/",
     "height": 34
    },
    "colab_type": "code",
    "id": "6Uc6GQI_3Vt2",
    "outputId": "e53fab42-bd89-4c25-d621-89b947b2ea25"
   },
   "outputs": [
    {
     "data": {
      "text/plain": [
       "(93568, 180, 1)"
      ]
     },
     "execution_count": 192,
     "metadata": {
      "tags": []
     },
     "output_type": "execute_result"
    }
   ],
   "source": [
    "(X_train.shape[0], X_train.shape[1], 1)"
   ]
  },
  {
   "cell_type": "code",
   "execution_count": 193,
   "metadata": {
    "colab": {
     "base_uri": "https://localhost:8080/",
     "height": 52
    },
    "colab_type": "code",
    "id": "h4aepVGD3VxH",
    "outputId": "a9f6b48f-9cf1-4580-8e89-259a7c0ad2c4"
   },
   "outputs": [
    {
     "name": "stdout",
     "output_type": "stream",
     "text": [
      "(93568, 180, 1)\n",
      "(39999, 180, 1)\n"
     ]
    }
   ],
   "source": [
    "#make it 3 Dimensional Data - needed for LSTM\n",
    "X_train = np.reshape(X_train, (X_train.shape[0], X_train.shape[1], 1))\n",
    "X_test = np.reshape(X_test, (X_test.shape[0], X_test.shape[1], 1))\n",
    "print(X_train.shape)\n",
    "print(X_test.shape)"
   ]
  },
  {
   "cell_type": "code",
   "execution_count": 194,
   "metadata": {
    "colab": {
     "base_uri": "https://localhost:8080/",
     "height": 887
    },
    "colab_type": "code",
    "id": "96gyZO3V3V6c",
    "outputId": "b9b25423-b879-45d1-eaf6-10f1363e9770"
   },
   "outputs": [
    {
     "data": {
      "text/plain": [
       "array([[[-0.92630866],\n",
       "        [-0.64341466],\n",
       "        [-0.71413816],\n",
       "        ...,\n",
       "        [-0.92630866],\n",
       "        [-1.0323939 ],\n",
       "        [-0.96167041]],\n",
       "\n",
       "       [[-0.64341466],\n",
       "        [-0.71413816],\n",
       "        [-0.78486166],\n",
       "        ...,\n",
       "        [-1.0323939 ],\n",
       "        [-0.96167041],\n",
       "        [-0.92630866]],\n",
       "\n",
       "       [[-0.71413816],\n",
       "        [-0.78486166],\n",
       "        [-0.85558516],\n",
       "        ...,\n",
       "        [-0.96167041],\n",
       "        [-0.92630866],\n",
       "        [-0.85558516]],\n",
       "\n",
       "       ...,\n",
       "\n",
       "       [[-0.14835017],\n",
       "        [-0.21907366],\n",
       "        [-0.28979716],\n",
       "        ...,\n",
       "        [-0.14835017],\n",
       "        [ 0.34671433],\n",
       "        [ 1.76118431]],\n",
       "\n",
       "       [[-0.21907366],\n",
       "        [-0.28979716],\n",
       "        [-0.28979716],\n",
       "        ...,\n",
       "        [ 0.34671433],\n",
       "        [ 1.76118431],\n",
       "        [ 3.1049308 ]],\n",
       "\n",
       "       [[-0.28979716],\n",
       "        [-0.28979716],\n",
       "        [-0.32515891],\n",
       "        ...,\n",
       "        [ 1.76118431],\n",
       "        [ 3.1049308 ],\n",
       "        [ 4.05969803]]])"
      ]
     },
     "execution_count": 194,
     "metadata": {
      "tags": []
     },
     "output_type": "execute_result"
    }
   ],
   "source": [
    "X_test"
   ]
  },
  {
   "cell_type": "markdown",
   "metadata": {
    "colab_type": "text",
    "id": "-IJkJDjOtEpK"
   },
   "source": [
    "## Build LSTM Model"
   ]
  },
  {
   "cell_type": "markdown",
   "metadata": {
    "colab_type": "text",
    "id": "jubM-wKFaDYa"
   },
   "source": [
    "# NADAM"
   ]
  },
  {
   "cell_type": "code",
   "execution_count": 197,
   "metadata": {
    "colab": {
     "base_uri": "https://localhost:8080/",
     "height": 54
    },
    "colab_type": "code",
    "id": "ev5onqUo3V9e",
    "outputId": "88d876fa-7e07-416d-976b-8d8e0cb25cde"
   },
   "outputs": [
    {
     "name": "stdout",
     "output_type": "stream",
     "text": [
      "WARNING:tensorflow:Layer lstm will not use cuDNN kernel since it doesn't meet the cuDNN kernel criteria. It will use generic GPU kernel as fallback when running on GPU\n"
     ]
    }
   ],
   "source": [
    "# define model\n",
    "tf.keras.backend.clear_session()\n",
    "model = tf.keras.Sequential()\n",
    "model.add(tf.keras.layers.LSTM(256, activation='relu',input_shape=(window_size, 1)))\n",
    "model.add(tf.keras.layers.BatchNormalization())\n",
    "model.add(tf.keras.layers.Dropout(0.15))\n",
    "model.add(tf.keras.layers.Dense(1))\n",
    "model.compile(optimizer='Nadam', loss='mse')"
   ]
  },
  {
   "cell_type": "code",
   "execution_count": 198,
   "metadata": {
    "colab": {
     "base_uri": "https://localhost:8080/",
     "height": 923
    },
    "colab_type": "code",
    "id": "hO6OPZ_n3WAi",
    "outputId": "66a05e18-dbc2-41d9-b904-2184557fca62"
   },
   "outputs": [
    {
     "name": "stdout",
     "output_type": "stream",
     "text": [
      "Epoch 1/25\n",
      "1462/1462 [==============================] - 157s 108ms/step - loss: 0.1450 - val_loss: 0.0743\n",
      "Epoch 2/25\n",
      "1462/1462 [==============================] - 157s 107ms/step - loss: 0.1172 - val_loss: 0.0812\n",
      "Epoch 3/25\n",
      "1462/1462 [==============================] - 157s 107ms/step - loss: 0.1133 - val_loss: 0.0748\n",
      "Epoch 4/25\n",
      "1462/1462 [==============================] - 157s 107ms/step - loss: 0.1118 - val_loss: 0.0804\n",
      "Epoch 5/25\n",
      "1462/1462 [==============================] - 157s 108ms/step - loss: 0.1066 - val_loss: 0.0969\n",
      "Epoch 6/25\n",
      "1462/1462 [==============================] - 158s 108ms/step - loss: 0.1080 - val_loss: 0.0746\n",
      "Epoch 7/25\n",
      "1462/1462 [==============================] - 157s 108ms/step - loss: 0.1072 - val_loss: 0.0688\n",
      "Epoch 8/25\n",
      "1462/1462 [==============================] - 157s 108ms/step - loss: 0.1039 - val_loss: 0.0718\n",
      "Epoch 9/25\n",
      "1462/1462 [==============================] - 157s 107ms/step - loss: 0.1065 - val_loss: 0.0706\n",
      "Epoch 10/25\n",
      "1462/1462 [==============================] - 157s 107ms/step - loss: 0.1059 - val_loss: 0.0722\n",
      "Epoch 11/25\n",
      "1462/1462 [==============================] - 157s 107ms/step - loss: 0.1053 - val_loss: 0.0768\n",
      "Epoch 12/25\n",
      "1462/1462 [==============================] - 157s 107ms/step - loss: 0.1025 - val_loss: 0.0729\n",
      "Epoch 13/25\n",
      "1462/1462 [==============================] - 156s 107ms/step - loss: 0.1046 - val_loss: 0.0871\n",
      "Epoch 14/25\n",
      "1462/1462 [==============================] - 157s 107ms/step - loss: 0.1029 - val_loss: 0.0710\n",
      "Epoch 15/25\n",
      "1462/1462 [==============================] - 157s 107ms/step - loss: 0.1043 - val_loss: 0.0707\n",
      "Epoch 16/25\n",
      "1462/1462 [==============================] - 157s 107ms/step - loss: 0.1042 - val_loss: 0.0855\n",
      "Epoch 17/25\n",
      "1462/1462 [==============================] - 157s 107ms/step - loss: 0.1035 - val_loss: 0.0714\n",
      "Epoch 18/25\n",
      "1462/1462 [==============================] - 157s 107ms/step - loss: 0.1016 - val_loss: 0.0720\n",
      "Epoch 19/25\n",
      "1462/1462 [==============================] - 157s 107ms/step - loss: 0.1036 - val_loss: 0.0843\n",
      "Epoch 20/25\n",
      "1462/1462 [==============================] - 157s 107ms/step - loss: 0.1001 - val_loss: 0.0707\n",
      "Epoch 21/25\n",
      "1462/1462 [==============================] - 157s 107ms/step - loss: 0.1021 - val_loss: 0.0692\n",
      "Epoch 22/25\n",
      "1462/1462 [==============================] - 157s 107ms/step - loss: 0.1009 - val_loss: 0.0709\n",
      "Epoch 23/25\n",
      "1462/1462 [==============================] - 157s 107ms/step - loss: 0.0998 - val_loss: 0.0693\n",
      "Epoch 24/25\n",
      "1462/1462 [==============================] - 157s 107ms/step - loss: 0.1013 - val_loss: 0.0729\n",
      "Epoch 25/25\n",
      "1462/1462 [==============================] - 157s 108ms/step - loss: 0.0986 - val_loss: 0.0704\n"
     ]
    },
    {
     "data": {
      "text/plain": [
       "<tensorflow.python.keras.callbacks.History at 0x7f00bf5d00f0>"
      ]
     },
     "execution_count": 198,
     "metadata": {
      "tags": []
     },
     "output_type": "execute_result"
    }
   ],
   "source": [
    "model.fit(X_train, y_train, epochs=25, validation_data=(X_test, y_test), batch_size=64)"
   ]
  },
  {
   "cell_type": "code",
   "execution_count": 0,
   "metadata": {
    "colab": {},
    "colab_type": "code",
    "id": "9KTMkdyu6Oyf"
   },
   "outputs": [],
   "source": [
    "#Un-normalize the predited data\n",
    "trainPredict = model.predict(X_train)\n",
    "testPredict = model.predict(X_test)"
   ]
  },
  {
   "cell_type": "markdown",
   "metadata": {
    "colab_type": "text",
    "id": "hgQ97VdSQjY-"
   },
   "source": []
  },
  {
   "cell_type": "code",
   "execution_count": 200,
   "metadata": {
    "colab": {
     "base_uri": "https://localhost:8080/",
     "height": 34
    },
    "colab_type": "code",
    "id": "EZzZvquUCXfG",
    "outputId": "61bb982c-0b6f-4347-c777-b0a84cb84090"
   },
   "outputs": [
    {
     "data": {
      "text/plain": [
       "0.2863980965574185"
      ]
     },
     "execution_count": 200,
     "metadata": {
      "tags": []
     },
     "output_type": "execute_result"
    }
   ],
   "source": [
    "rmse = np.sqrt(metrics.mean_squared_error(trainPredict, y_train))\n",
    "rmse"
   ]
  },
  {
   "cell_type": "code",
   "execution_count": 201,
   "metadata": {
    "colab": {
     "base_uri": "https://localhost:8080/",
     "height": 34
    },
    "colab_type": "code",
    "id": "jZxWwP8j9o2E",
    "outputId": "d019219b-78b4-4895-cac2-e1a04d8083ec"
   },
   "outputs": [
    {
     "data": {
      "text/plain": [
       "0.265290626159035"
      ]
     },
     "execution_count": 201,
     "metadata": {
      "tags": []
     },
     "output_type": "execute_result"
    }
   ],
   "source": [
    "rmse = np.sqrt(metrics.mean_squared_error(testPredict, y_test))\n",
    "rmse"
   ]
  },
  {
   "cell_type": "code",
   "execution_count": 202,
   "metadata": {
    "colab": {
     "base_uri": "https://localhost:8080/",
     "height": 34
    },
    "colab_type": "code",
    "id": "98zRCnFr6O8M",
    "outputId": "89e9e6a5-9752-4377-de30-ffe71244f77a"
   },
   "outputs": [
    {
     "data": {
      "text/plain": [
       "0.8745486043901258"
      ]
     },
     "execution_count": 202,
     "metadata": {
      "tags": []
     },
     "output_type": "execute_result"
    }
   ],
   "source": [
    "from sklearn.metrics import r2_score, mean_squared_error\n",
    "r2 = r2_score(testPredict, y_test)\n",
    "r2"
   ]
  },
  {
   "cell_type": "code",
   "execution_count": 203,
   "metadata": {
    "colab": {
     "base_uri": "https://localhost:8080/",
     "height": 34
    },
    "colab_type": "code",
    "id": "tt-2qq0uD9DW",
    "outputId": "3206a971-86b3-4573-c04e-757e06be0fac"
   },
   "outputs": [
    {
     "data": {
      "text/plain": [
       "0.9214140548891039"
      ]
     },
     "execution_count": 203,
     "metadata": {
      "tags": []
     },
     "output_type": "execute_result"
    }
   ],
   "source": [
    "r2 = r2_score(trainPredict, y_train)\n",
    "r2"
   ]
  },
  {
   "cell_type": "code",
   "execution_count": 0,
   "metadata": {
    "colab": {},
    "colab_type": "code",
    "id": "_T47PKQ0MVAe"
   },
   "outputs": [],
   "source": [
    "trainPredict = scaler.inverse_transform(trainPredict)\n",
    "testPredict = scaler.inverse_transform(testPredict)"
   ]
  },
  {
   "cell_type": "code",
   "execution_count": 205,
   "metadata": {
    "colab": {
     "base_uri": "https://localhost:8080/",
     "height": 592
    },
    "colab_type": "code",
    "id": "iPQ9R4mO6O4M",
    "outputId": "8386aad9-d307-4a95-c490-3f1ddae81f01"
   },
   "outputs": [
    {
     "data": {
      "image/png": "[encoded data removed]",
      "text/plain": [
       "<Figure size 1440x720 with 1 Axes>"
      ]
     },
     "metadata": {
      "needs_background": "light",
      "tags": []
     },
     "output_type": "display_data"
    }
   ],
   "source": [
    "trainPredictPlot = np.empty_like(final_df)\n",
    "trainPredictPlot[:, :] = np.nan\n",
    "trainPredictPlot[window_size:len(trainPredict)+window_size, :] = trainPredict\n",
    "# shift test predictions for plotting\n",
    "testPredictPlot = np.empty_like(scaled)\n",
    "testPredictPlot[:, :] = np.nan\n",
    "testPredictPlot[len(trainPredict)+(window_size*2):len(scaled), :] = testPredict\n",
    "# plot baseline and predictions\n",
    "plt.figure(figsize=(20,10))\n",
    "plt.plot(scaler.inverse_transform(scaled))\n",
    "plt.plot(trainPredictPlot)\n",
    "plt.plot(testPredictPlot)\n",
    "plt.show()"
   ]
  },
  {
   "cell_type": "code",
   "execution_count": 206,
   "metadata": {
    "colab": {
     "base_uri": "https://localhost:8080/",
     "height": 592
    },
    "colab_type": "code",
    "id": "-Kuzy3_f6PDc",
    "outputId": "4ea17c34-4a76-4816-85a3-00e0af94b54c"
   },
   "outputs": [
    {
     "data": {
      "image/png": "[encoded data removed]",
      "text/plain": [
       "<Figure size 1440x720 with 1 Axes>"
      ]
     },
     "metadata": {
      "needs_background": "light",
      "tags": []
     },
     "output_type": "display_data"
    }
   ],
   "source": [
    "# shift train predictions for plotting\n",
    "trainPredictPlot = np.empty_like(train)\n",
    "trainPredictPlot[:, :] = np.nan\n",
    "trainPredictPlot[window_size:len(trainPredict)+window_size, :] = trainPredict\n",
    "plt.figure(figsize=(20,10))\n",
    "plt.plot(scaler.inverse_transform(train))\n",
    "plt.plot(trainPredictPlot)\n",
    "plt.show()"
   ]
  },
  {
   "cell_type": "code",
   "execution_count": 207,
   "metadata": {
    "colab": {
     "base_uri": "https://localhost:8080/",
     "height": 592
    },
    "colab_type": "code",
    "id": "L9_7e43xElYO",
    "outputId": "484dfc5e-e9e5-4da1-f1a3-57d9a4a2dcff"
   },
   "outputs": [
    {
     "data": {
      "image/png": "[encoded data removed]",
      "text/plain": [
       "<Figure size 1440x720 with 1 Axes>"
      ]
     },
     "metadata": {
      "needs_background": "light",
      "tags": []
     },
     "output_type": "display_data"
    }
   ],
   "source": [
    "# shift test predictions for plotting\n",
    "testPredictPlot = np.empty_like(test)\n",
    "testPredictPlot[:, :] = np.nan\n",
    "testPredictPlot[window_size:, :] = testPredict\n",
    "plt.figure(figsize=(20,10))\n",
    "plt.plot(scaler.inverse_transform(test))\n",
    "plt.plot(testPredictPlot,color='y')\n",
    "plt.show()"
   ]
  }
 ],
 "metadata": {
  "accelerator": "GPU",
  "colab": {
   "collapsed_sections": [],
   "name": "LSTM_Model_1minavg_180min.ipynb",
   "provenance": []
  },
  "kernelspec": {
   "display_name": "Python 3",
   "language": "python",
   "name": "python3"
  },
  "language_info": {
   "codemirror_mode": {
    "name": "ipython",
    "version": 3
   },
   "file_extension": ".py",
   "mimetype": "text/x-python",
   "name": "python",
   "nbconvert_exporter": "python",
   "pygments_lexer": "ipython3",
   "version": "3.7.3"
  }
 },
 "nbformat": 4,
 "nbformat_minor": 1
}
